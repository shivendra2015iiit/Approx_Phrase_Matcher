{
 "cells": [
  {
   "cell_type": "code",
   "execution_count": null,
   "metadata": {},
   "outputs": [],
   "source": [
    "#!pip install fuzzywuzzy\n",
    "#!pip install python-Levenshtein\n",
    "#nltk.download('wordnet')"
   ]
  },
  {
   "cell_type": "code",
   "execution_count": 160,
   "metadata": {},
   "outputs": [],
   "source": [
    "import pandas as pd\n",
    "import numpy as np\n",
    "import os\n",
    "from fuzzywuzzy import fuzz\n",
    "from fuzzywuzzy import process\n",
    "import nltk\n",
    "from nltk.tokenize import RegexpTokenizer\n",
    "from nltk.stem import WordNetLemmatizer \n",
    "from nltk.corpus import stopwords \n",
    "import re\n",
    "lemmatizer = WordNetLemmatizer() "
   ]
  },
  {
   "cell_type": "code",
   "execution_count": 476,
   "metadata": {},
   "outputs": [],
   "source": [
    "with open(\"Toyota_Highlander_1.txt\") as file:\n",
    "    data11=file.read()\n",
    "with open(\"Toyota_Highlander_2.txt\") as file:\n",
    "    data12=file.read()\n",
    "with open(\"Toyota_Highlander_3.txt\") as file:\n",
    "    data13=file.read()\n",
    "data = pd.read_csv(\"nissan_edmunds.csv\")\n",
    "data1 = pd.read_excel(\"Highlander.xlsx\",header=None)\n"
   ]
  },
  {
   "cell_type": "code",
   "execution_count": 39,
   "metadata": {},
   "outputs": [
    {
     "data": {
      "text/html": [
       "<div>\n",
       "<style scoped>\n",
       "    .dataframe tbody tr th:only-of-type {\n",
       "        vertical-align: middle;\n",
       "    }\n",
       "\n",
       "    .dataframe tbody tr th {\n",
       "        vertical-align: top;\n",
       "    }\n",
       "\n",
       "    .dataframe thead th {\n",
       "        text-align: right;\n",
       "    }\n",
       "</style>\n",
       "<table border=\"1\" class=\"dataframe\">\n",
       "  <thead>\n",
       "    <tr style=\"text-align: right;\">\n",
       "      <th></th>\n",
       "      <th>0</th>\n",
       "    </tr>\n",
       "  </thead>\n",
       "  <tbody>\n",
       "    <tr>\n",
       "      <th>0</th>\n",
       "      <td>If you're shopping within the Toyota family, t...</td>\n",
       "    </tr>\n",
       "    <tr>\n",
       "      <th>1</th>\n",
       "      <td>The 2019 Toyota Highlander ranks highly in the...</td>\n",
       "    </tr>\n",
       "    <tr>\n",
       "      <th>2</th>\n",
       "      <td>If you're shopping within the Toyota family, t...</td>\n",
       "    </tr>\n",
       "  </tbody>\n",
       "</table>\n",
       "</div>"
      ],
      "text/plain": [
       "                                                   0\n",
       "0  If you're shopping within the Toyota family, t...\n",
       "1  The 2019 Toyota Highlander ranks highly in the...\n",
       "2  If you're shopping within the Toyota family, t..."
      ]
     },
     "execution_count": 39,
     "metadata": {},
     "output_type": "execute_result"
    }
   ],
   "source": [
    "data1"
   ]
  },
  {
   "cell_type": "code",
   "execution_count": 65,
   "metadata": {},
   "outputs": [],
   "source": [
    "features = pd.DataFrame()\n",
    "with open(\"FeaturesCar.txt\",\"r\") as file:\n",
    "    for line in file:\n",
    "        features=features.append([line.split(\"\\n\")[0]],ignore_index=True)\n",
    "file.close()"
   ]
  },
  {
   "cell_type": "code",
   "execution_count": 67,
   "metadata": {},
   "outputs": [],
   "source": [
    "features.to_csv(\"features.csv\",header=None,index=None)"
   ]
  },
  {
   "cell_type": "code",
   "execution_count": 522,
   "metadata": {
    "scrolled": false
   },
   "outputs": [
    {
     "data": {
      "text/plain": [
       "[('Apple', 'NNP'), ('carplay', 'NN')]"
      ]
     },
     "execution_count": 522,
     "metadata": {},
     "output_type": "execute_result"
    }
   ],
   "source": [
    "#nltk.pos_tag(features[0].tolist())"
   ]
  },
  {
   "cell_type": "code",
   "execution_count": 440,
   "metadata": {},
   "outputs": [],
   "source": [
    "stop_words = set(stopwords.words('english'))\n",
    "stop_words.add(\",\")\n",
    "stop_words.add(\".\")\n",
    "stop_words.add(\"!\")\n",
    "stop_words.add(\"(\")\n",
    "stop_words.add(\")\")"
   ]
  },
  {
   "cell_type": "code",
   "execution_count": 441,
   "metadata": {},
   "outputs": [],
   "source": [
    "def findadv(sentance,feature,match,prox_noun=4,prox_adj=4):\n",
    "    tagged_words=nltk.pos_tag(sentance)\n",
    "    adj=[]\n",
    "    quality=\"\"\n",
    "    index=0\n",
    "    for i in range(len(tagged_words)):\n",
    "        if fuzz.ratio(tagged_words[i][0].lower(),feature.lower())>match:\n",
    "            index = i\n",
    "            quality= tagged_words[i][0]\n",
    "            j=0\n",
    "            #Here we are finding nouns in the proximinty of 4 words if they are noun we are adding it to feature name\n",
    "            # -4 words\n",
    "            while i-j>0 and j<prox_noun:\n",
    "                j=j+1\n",
    "                if re.search(r'NN.*',tagged_words[i-j][1]):\n",
    "                    quality=tagged_words[i-j][0]+\" \"+quality\n",
    "                else:\n",
    "                    break\n",
    "            #Here we are finding Adjectives which may be the value of feature in proximity of 4 (default)\n",
    "            # -4 words\n",
    "            if (i-j)>0:\n",
    "                ad=0\n",
    "                while i-j-ad>0 and ad<prox_adj:\n",
    "\n",
    "                    if re.search(r'JJ.*',tagged_words[i-j-ad][1]):\n",
    "                        adj.append(tagged_words[i-j-ad][0])\n",
    "                    ad=ad+1\n",
    "             #Here we are finding nouns in the proximinty of 4 words if they are noun we are adding it to feature name\n",
    "            # +4 words  \n",
    "            j=0\n",
    "            while i+j<len(tagged_words)-1 and j<prox_noun:\n",
    "                j=j+1\n",
    "                if re.search(r'NN.*',tagged_words[i+j][1]):\n",
    "                    quality=quality+\" \"+tagged_words[i+j][0]\n",
    "                else:\n",
    "                    break\n",
    "                    \n",
    "            if (i+j)<len(tagged_words):\n",
    "                ad=0\n",
    "                while i+j+ad<len(tagged_words)-1 and ad<prox_adj:\n",
    "\n",
    "                    if re.search(r'JJ.*',tagged_words[i+j+ad][1]):\n",
    "                        adj.append(tagged_words[i+j+ad][0])\n",
    "                    ad=ad+1\n",
    "            break\n",
    "    return [quality,adj]"
   ]
  },
  {
   "cell_type": "code",
   "execution_count": 442,
   "metadata": {},
   "outputs": [],
   "source": [
    "# sentances = nltk.sent_tokenize(data1[0][0])\n",
    "# for feature in features[0].tolist():\n",
    "#     for sentance in sentances:\n",
    "#         word_tokens= nltk.word_tokenize(sentance)                                   #      tokenizer.tokenize(data1[0][0])\n",
    "#         filtered_sentence = [w for w in word_tokens if not w in stop_words]\n",
    "\n",
    "\n",
    "#         for word in filtered_sentence:\n",
    "\n",
    "#             if fuzz.ratio(word.lower(),feature.lower())>80:\n",
    "#                 print(findadv(filtered_sentence, feature))"
   ]
  },
  {
   "cell_type": "code",
   "execution_count": 445,
   "metadata": {},
   "outputs": [],
   "source": [
    "def findcarfeatures(features,document,prox_noun=4,prox_adj=4,match=80):\n",
    "    \n",
    "    \"\"\"Takes list of features and document in string formate\"\"\"\n",
    "    result = []\n",
    "    sentances = nltk.sent_tokenize(document)\n",
    "    for feature in features:\n",
    "        for sentance in sentances:\n",
    "            word_tokens= nltk.word_tokenize(sentance)                                   #      tokenizer.tokenize(data1[0][0])\n",
    "            filtered_sentence = [w for w in word_tokens if not w in stop_words]\n",
    "            for word in filtered_sentence:\n",
    "                if fuzz.ratio(word.lower(),feature.lower())>match:\n",
    "                    result.append(findadv(word_tokens, feature,match))\n",
    "    return result\n",
    "    "
   ]
  },
  {
   "cell_type": "code",
   "execution_count": 479,
   "metadata": {},
   "outputs": [
    {
     "data": {
      "text/plain": [
       "[['steering wheel', ['leather-wrapped']],\n",
       " ['alloy wheels', ['18-inch', 'three-zone', 'automatic']],\n",
       " ['steering wheel', ['leather-wrapped']],\n",
       " ['wheels', ['20-inch', 'Limited', 'handsfree']],\n",
       " ['LED headlights', ['adaptive']],\n",
       " ['headlights', ['automatic']],\n",
       " ['LED headlights', []],\n",
       " ['headlights', ['self-leveling', 'adaptive', 'automatic']],\n",
       " ['touchscreen', ['8-inch']],\n",
       " ['touchscreen', ['12.3-inch']],\n",
       " ['safety section', ['full-speed']]]"
      ]
     },
     "execution_count": 479,
     "metadata": {},
     "output_type": "execute_result"
    }
   ],
   "source": [
    "findcarfeatures(features[0].tolist(),data1[0][0],prox_noun=4,prox_adj=4,match=80)"
   ]
  },
  {
   "cell_type": "code",
   "execution_count": 473,
   "metadata": {},
   "outputs": [
    {
     "data": {
      "text/plain": [
       "[['V6 engine', ['previous', 'standard']],\n",
       " ['dash', ['high', 'easy']],\n",
       " ['infotainment features', ['different']],\n",
       " ['touchscreen', ['12.3-inch', 'jumbo', 'available']],\n",
       " ['touchscreen', ['eight-inch']],\n",
       " ['safety equipment', ['generous', 'well-equipped']]]"
      ]
     },
     "execution_count": 473,
     "metadata": {},
     "output_type": "execute_result"
    }
   ],
   "source": [
    "findcarfeatures(features[0].tolist(),data11,prox_noun=4,prox_adj=4,match=80)"
   ]
  },
  {
   "cell_type": "code",
   "execution_count": 477,
   "metadata": {},
   "outputs": [
    {
     "data": {
      "text/plain": [
       "[['V6 engine', ['optional', 'efficient', 'powerful']],\n",
       " ['V6 engine', ['optional']],\n",
       " ['V6 engine', ['powerful']],\n",
       " ['V6 engine', ['all-wheel']],\n",
       " ['V6 engine', ['come']],\n",
       " ['suspension system', ['sport-tuned', 'black', 'leather-trimmed']],\n",
       " ['alloy wheels', ['19-inch', 'sport-tuned']],\n",
       " ['straightforward infotainment system', ['standard']],\n",
       " ['safety features', ['standard', 'impressive']],\n",
       " ['safety features', ['standard', 'generous']],\n",
       " ['Highway Safety', []]]"
      ]
     },
     "execution_count": 477,
     "metadata": {},
     "output_type": "execute_result"
    }
   ],
   "source": [
    "findcarfeatures(features[0].tolist(),data12,prox_noun=4,prox_adj=4,match=80)"
   ]
  },
  {
   "cell_type": "code",
   "execution_count": 478,
   "metadata": {
    "scrolled": true
   },
   "outputs": [
    {
     "data": {
      "text/plain": [
       "[['steering wheel', ['leather-wrapped']],\n",
       " ['alloy wheels', ['18-inch', 'three-zone', 'automatic']],\n",
       " ['steering wheel', ['leather-wrapped']],\n",
       " ['wheels', ['20-inch', 'Limited', 'handsfree']],\n",
       " ['LED headlights', ['adaptive']],\n",
       " ['headlights', ['automatic']],\n",
       " ['LED headlights', []],\n",
       " ['headlights', ['self-leveling', 'adaptive', 'automatic']],\n",
       " ['touchscreen', ['8-inch']],\n",
       " ['touchscreen', ['12.3-inch']],\n",
       " ['safety section', ['full-speed']]]"
      ]
     },
     "execution_count": 478,
     "metadata": {},
     "output_type": "execute_result"
    }
   ],
   "source": [
    "findcarfeatures(features[0].tolist(),data13,prox_noun=4,prox_adj=4,match=80)"
   ]
  },
  {
   "cell_type": "code",
   "execution_count": 434,
   "metadata": {},
   "outputs": [
    {
     "data": {
      "text/plain": [
       "[\"If you're shopping within the Toyota family, the Highlander offers appreciably more space than the RAV4, both in terms of cargo capacity and its extra row of seats.\",\n",
       " \"It also has a deeper, more accessible space than what's in the 4Runner.\",\n",
       " 'That said, the Highlander is one of the smallest three-row crossovers available.',\n",
       " \"Apart from the Kia Sorento and maybe the Mazda CX-9, you're going to find more cargo capacity and passenger space in the Highlander's competitors.\",\n",
       " \"That's especially true in the third row.\",\n",
       " \"The second row slides a bit more to grant extra legroom now, but the third row remains awfully close to the floor, and it won't be long before your growing kids will feel cramped and claustrophobic in the way-back.\",\n",
       " 'Full-size teens and adults will be flat-out grumpy.',\n",
       " \"That said, the Highlander's smaller size might be just right for many buyers who appreciate its more manageable dimensions when parking or maneuvering in tight spots.\",\n",
       " \"Plus, if you only need that third row for occasional use and just a little more space than what a RAV4 provides, it really won't matter that the Highlander can't match its competitors' jumbo size.\",\n",
       " 'We expect pricing for the 2020 Highlander to be announced closer to its on-sale date in December 2019, with the Hybrid arriving in February 2020.',\n",
       " 'Specifically, it should correspond with our first test drive opportunity, likely in November.',\n",
       " 'We do have a pretty comprehensive features breakdown, however, which you can see below.',\n",
       " 'Standard equipment on the Highlander L includes 18-inch alloy wheels, three-zone automatic climate control, accident avoidance tech features (see safety section below), full-speed adaptive cruise control, LED headlights, rear privacy glass, proximity entry and push-button start, an eight-way power driver seat and the 8-inch touchscreen.',\n",
       " 'The LE additions include a power liftgate, blind-spot warning, LED foglamps, and a leather-wrapped steering wheel.',\n",
       " 'The XLE additions include automatic headlights, roof rails, a sunroof, heated front seats, driver power lumbar, a four-way power passenger seat, SofTex vinyl upholstery, second-row sunshades and an auto-dimming rearview mirror.',\n",
       " 'The Limited additions include 20-inch wheels, a handsfree power liftgate, upgraded LED headlights, a cargo cover, driver memory settings, ventilated front seats, leather upholstery, integrated navigation and a JBL sound system upgrade.',\n",
       " \"The Platinum additions include adaptive and self-leveling headlights, automatic wipers, a panoramic sunroof bird's-eye parking camera, a head-up display, a digital rearview mirror camera, perforated leather upholstery, heated second-row seats and a 12.3-inch touchscreen.\"]"
      ]
     },
     "execution_count": 434,
     "metadata": {},
     "output_type": "execute_result"
    }
   ],
   "source": [
    "nltk.sent_tokenize(data1[0][0])"
   ]
  },
  {
   "cell_type": "code",
   "execution_count": 480,
   "metadata": {},
   "outputs": [
    {
     "data": {
      "text/plain": [
       "\"If you're shopping within the Toyota family, the Highlander offers appreciably more space than the RAV4, both in terms of cargo capacity and its extra row of seats. It also has a deeper, more accessible space than what's in the 4Runner.\\nThat said, the Highlander is one of the smallest three-row crossovers available. Apart from the Kia Sorento and maybe the Mazda CX-9, you're going to find more cargo capacity and passenger space in the Highlander's competitors. That's especially true in the third row. The second row slides a bit more to grant extra legroom now, but the third row remains awfully close to the floor, and it won't be long before your growing kids will feel cramped and claustrophobic in the way-back. Full-size teens and adults will be flat-out grumpy.\\nThat said, the Highlander's smaller size might be just right for many buyers who appreciate its more manageable dimensions when parking or maneuvering in tight spots. Plus, if you only need that third row for occasional use and just a little more space than what a RAV4 provides, it really won't matter that the Highlander can't match its competitors' jumbo size.\\nWe expect pricing for the 2020 Highlander to be announced closer to its on-sale date in December 2019, with the Hybrid arriving in February 2020. Specifically, it should correspond with our first test drive opportunity, likely in November.\\n\\nWe do have a pretty comprehensive features breakdown, however, which you can see below.\\nStandard equipment on the Highlander L includes 18-inch alloy wheels, three-zone automatic climate control, accident avoidance tech features (see safety section below), full-speed adaptive cruise control, LED headlights, rear privacy glass, proximity entry and push-button start, an eight-way power driver seat and the 8-inch touchscreen.\\n\\nThe LE additions include a power liftgate, blind-spot warning, LED foglamps, and a leather-wrapped steering wheel.\\n\\nThe XLE additions include automatic headlights, roof rails, a sunroof, heated front seats, driver power lumbar, a four-way power passenger seat, SofTex vinyl upholstery, second-row sunshades and an auto-dimming rearview mirror.\\n\\nThe Limited additions include 20-inch wheels, a handsfree power liftgate, upgraded LED headlights, a cargo cover, driver memory settings, ventilated front seats, leather upholstery, integrated navigation and a JBL sound system upgrade.\\n\\nThe Platinum additions include adaptive and self-leveling headlights, automatic wipers, a panoramic sunroof bird's-eye parking camera, a head-up display, a digital rearview mirror camera, perforated leather upholstery, heated second-row seats and a 12.3-inch touchscreen.\\n\""
      ]
     },
     "execution_count": 480,
     "metadata": {},
     "output_type": "execute_result"
    }
   ],
   "source": [
    "data1[0][0]"
   ]
  },
  {
   "cell_type": "code",
   "execution_count": null,
   "metadata": {},
   "outputs": [],
   "source": []
  },
  {
   "cell_type": "code",
   "execution_count": 528,
   "metadata": {},
   "outputs": [],
   "source": [
    "def findcarfeatures2(features,document,prox_noun=4,prox_adj=4,match=80):\n",
    "    \n",
    "    \"\"\"Takes list of features and document in string formate\"\"\"\n",
    "    result = []\n",
    "    featuresIdentfied=[]\n",
    "    sentances = nltk.sent_tokenize(document)\n",
    "    \n",
    "    for feature in features:\n",
    "        lenfeature = len(feature.split(\" \"))\n",
    "        for sentance in sentances:\n",
    "            word_tokens= nltk.word_tokenize(sentance)                                   #      tokenizer.tokenize(data1[0][0])\n",
    "            filtered_sentence = [w for w in word_tokens if not w in stop_words]\n",
    "            for i in range(len(word_tokens)-lenfeature+1):\n",
    "                wordtocomapre=\"\"\n",
    "                for j in range(i,i+lenfeature):\n",
    "                    if re.search(r'[,()]',word_tokens[j]):\n",
    "                        break\n",
    "                    wordtocomapre=wordtocomapre+\" \"+word_tokens[j].lower()\n",
    "                wordtocomapre=wordtocomapre.strip()\n",
    "                if not wordtocomapre==\"\":\n",
    "                    if fuzz.ratio(wordtocomapre,feature.lower())>match:\n",
    "                        result.append([wordtocomapre,feature])\n",
    "                        #featuresIdentfied.append(findadv(word_tokens, feature, match))\n",
    "    return result,featuresIdentfied"
   ]
  },
  {
   "cell_type": "code",
   "execution_count": 531,
   "metadata": {},
   "outputs": [
    {
     "data": {
      "text/plain": [
       "([['steering', 'STEERING'],\n",
       "  ['cruise control', 'CRUISE CONTROL'],\n",
       "  ['blind-spot warning', 'BLIND SPOT WARNING'],\n",
       "  ['rearview mirror', 'REARVIEW MONITOR'],\n",
       "  ['rearview mirror', 'REARVIEW MONITOR'],\n",
       "  ['wheels', 'WHEELS'],\n",
       "  ['wheel', 'WHEELS'],\n",
       "  ['wheels', 'WHEELS'],\n",
       "  ['headlights', 'HEADLIGHTS'],\n",
       "  ['headlights', 'HEADLIGHTS'],\n",
       "  ['headlights', 'HEADLIGHTS'],\n",
       "  ['headlights', 'HEADLIGHTS'],\n",
       "  ['automatic headlights', 'AUTOMATIC ON/OFF HEADLIGHTS'],\n",
       "  ['automatic climate control', 'AUTOMATIC TEMPERATURE CONTROL'],\n",
       "  ['push-button start', 'Push-Button Start'],\n",
       "  ['heated front seats', 'HEATED FRONT SEATS'],\n",
       "  ['ventilated front seats', 'HEATED FRONT SEATS'],\n",
       "  ['a leather-wrapped steering', 'LEATHER-WRAPPED STEERING WHEEL'],\n",
       "  ['leather-wrapped steering wheel', 'LEATHER-WRAPPED STEERING WHEEL'],\n",
       "  ['touchscreen', 'TOUCH-SCREEN'],\n",
       "  ['touchscreen', 'TOUCH-SCREEN'],\n",
       "  ['safety', 'SAFETY'],\n",
       "  ['cargo capacity', 'CARGO CAPACITY'],\n",
       "  ['cargo capacity', 'CARGO CAPACITY']],\n",
       " [])"
      ]
     },
     "execution_count": 531,
     "metadata": {},
     "output_type": "execute_result"
    }
   ],
   "source": [
    "findcarfeatures2(features[0].tolist(),data1[0][2],prox_noun=4,prox_adj=4)"
   ]
  },
  {
   "cell_type": "code",
   "execution_count": null,
   "metadata": {},
   "outputs": [],
   "source": []
  },
  {
   "cell_type": "code",
   "execution_count": 468,
   "metadata": {},
   "outputs": [
    {
     "data": {
      "text/plain": [
       "({'automatic climate control',\n",
       "  'engine',\n",
       "  'infotainment',\n",
       "  'safety',\n",
       "  'suspension',\n",
       "  'usb ports',\n",
       "  'wheels'},\n",
       " [])"
      ]
     },
     "execution_count": 468,
     "metadata": {},
     "output_type": "execute_result"
    }
   ],
   "source": [
    "findcarfeatures2(features[0].tolist(),data1[0][1],prox_noun=4,prox_adj=4)"
   ]
  },
  {
   "cell_type": "code",
   "execution_count": 462,
   "metadata": {},
   "outputs": [
    {
     "data": {
      "text/plain": [
       "\"If you're shopping within the Toyota family, the Highlander offers appreciably more space than the RAV4, both in terms of cargo capacity and its extra row of seats. It also has a deeper, more accessible space than what's in the 4Runner.\\nThat said, the Highlander is one of the smallest three-row crossovers available. Apart from the Kia Sorento and maybe the Mazda CX-9, you're going to find more cargo capacity and passenger space in the Highlander's competitors. That's especially true in the third row. The second row slides a bit more to grant extra legroom now, but the third row remains awfully close to the floor, and it won't be long before your growing kids will feel cramped and claustrophobic in the way-back. Full-size teens and adults will be flat-out grumpy.\\nThat said, the Highlander's smaller size might be just right for many buyers who appreciate its more manageable dimensions when parking or maneuvering in tight spots. Plus, if you only need that third row for occasional use and just a little more space than what a RAV4 provides, it really won't matter that the Highlander can't match its competitors' jumbo size.\\nWe expect pricing for the 2020 Highlander to be announced closer to its on-sale date in December 2019, with the Hybrid arriving in February 2020. Specifically, it should correspond with our first test drive opportunity, likely in November.\\n\\nWe do have a pretty comprehensive features breakdown, however, which you can see below.\\nStandard equipment on the Highlander L includes 18-inch alloy wheels, three-zone automatic climate control, accident avoidance tech features (see safety section below), full-speed adaptive cruise control, LED headlights, rear privacy glass, proximity entry and push-button start, an eight-way power driver seat and the 8-inch touchscreen.\\n\\nThe LE additions include a power liftgate, blind-spot warning, LED foglamps, and a leather-wrapped steering wheel.\\n\\nThe XLE additions include automatic headlights, roof rails, a sunroof, heated front seats, driver power lumbar, a four-way power passenger seat, SofTex vinyl upholstery, second-row sunshades and an auto-dimming rearview mirror.\\n\\nThe Limited additions include 20-inch wheels, a handsfree power liftgate, upgraded LED headlights, a cargo cover, driver memory settings, ventilated front seats, leather upholstery, integrated navigation and a JBL sound system upgrade.\\n\\nThe Platinum additions include adaptive and self-leveling headlights, automatic wipers, a panoramic sunroof bird's-eye parking camera, a head-up display, a digital rearview mirror camera, perforated leather upholstery, heated second-row seats and a 12.3-inch touchscreen.\\n\""
      ]
     },
     "execution_count": 462,
     "metadata": {},
     "output_type": "execute_result"
    }
   ],
   "source": [
    "data1[0][0]"
   ]
  },
  {
   "cell_type": "code",
   "execution_count": null,
   "metadata": {},
   "outputs": [],
   "source": []
  },
  {
   "cell_type": "code",
   "execution_count": null,
   "metadata": {},
   "outputs": [],
   "source": []
  },
  {
   "cell_type": "code",
   "execution_count": null,
   "metadata": {},
   "outputs": [],
   "source": []
  },
  {
   "cell_type": "code",
   "execution_count": null,
   "metadata": {},
   "outputs": [],
   "source": []
  },
  {
   "cell_type": "code",
   "execution_count": 519,
   "metadata": {},
   "outputs": [
    {
     "data": {
      "text/plain": [
       "[]"
      ]
     },
     "execution_count": 519,
     "metadata": {},
     "output_type": "execute_result"
    }
   ],
   "source": [
    "\n",
    "from spacy.matcher import PhraseMatcher\n",
    "import spacy\n",
    "nlp = spacy.load(\"en_core_web_sm\")\n",
    "matcher = PhraseMatcher(nlp.vocab)\n",
    "matcher.add(\"SCREEN\", None, nlp(u\"Touchscreen\"))\n",
    "doc = nlp(u\"Touchscreens are most comman these days\")\n",
    "matches = matcher(doc)\n",
    "matches"
   ]
  },
  {
   "cell_type": "code",
   "execution_count": null,
   "metadata": {},
   "outputs": [],
   "source": []
  },
  {
   "cell_type": "code",
   "execution_count": null,
   "metadata": {},
   "outputs": [],
   "source": []
  },
  {
   "cell_type": "code",
   "execution_count": null,
   "metadata": {},
   "outputs": [],
   "source": []
  },
  {
   "cell_type": "code",
   "execution_count": null,
   "metadata": {},
   "outputs": [],
   "source": []
  },
  {
   "cell_type": "code",
   "execution_count": null,
   "metadata": {},
   "outputs": [],
   "source": []
  },
  {
   "cell_type": "code",
   "execution_count": null,
   "metadata": {},
   "outputs": [],
   "source": []
  },
  {
   "cell_type": "code",
   "execution_count": null,
   "metadata": {},
   "outputs": [],
   "source": [
    "fuzz.partial_ratio(\"drivetrain\",\"drive train\")"
   ]
  },
  {
   "cell_type": "code",
   "execution_count": 13,
   "metadata": {},
   "outputs": [
    {
     "data": {
      "text/plain": [
       "[('wipers', 91), ('wipers', 91), ('were', 67), ('We', 57), ('we', 57)]"
      ]
     },
     "execution_count": 13,
     "metadata": {},
     "output_type": "execute_result"
    }
   ],
   "source": [
    "process.extract(\"wiper\",data.loc[0,\"corpus\"].split(\" \"))"
   ]
  },
  {
   "cell_type": "code",
   "execution_count": 14,
   "metadata": {
    "scrolled": true
   },
   "outputs": [
    {
     "name": "stdout",
     "output_type": "stream",
     "text": [
      "wipers\n",
      "wipers\n",
      "wiper\n",
      "wipers\n",
      "wipers\n",
      "wiped\n",
      "wipes\n"
     ]
    }
   ],
   "source": [
    "for row in data.corpus:\n",
    "    response=process.extract(\"wipers\",row.split(\" \"),scorer=fuzz.QRatio)\n",
    "    for i,j in response:\n",
    "        if j>70:\n",
    "            print(i)\n",
    "            break\n",
    "        "
   ]
  },
  {
   "cell_type": "code",
   "execution_count": 15,
   "metadata": {},
   "outputs": [],
   "source": [
    "file = open(\"FeaturesCar.txt\",\"r\")\n",
    "reader = file.readlines()"
   ]
  },
  {
   "cell_type": "code",
   "execution_count": 17,
   "metadata": {},
   "outputs": [
    {
     "data": {
      "text/plain": [
       "'The wipers were almost useless. They left such bad streaks that driving was dangerous  especially in the dark. We had to purchase new wipers so we could see.'"
      ]
     },
     "execution_count": 17,
     "metadata": {},
     "output_type": "execute_result"
    }
   ],
   "source": [
    "data.loc[0,\"corpus\"]\n",
    "    "
   ]
  },
  {
   "cell_type": "code",
   "execution_count": null,
   "metadata": {},
   "outputs": [],
   "source": []
  },
  {
   "cell_type": "code",
   "execution_count": null,
   "metadata": {},
   "outputs": [],
   "source": []
  }
 ],
 "metadata": {
  "kernelspec": {
   "display_name": "Python 3",
   "language": "python",
   "name": "python3"
  },
  "language_info": {
   "codemirror_mode": {
    "name": "ipython",
    "version": 3
   },
   "file_extension": ".py",
   "mimetype": "text/x-python",
   "name": "python",
   "nbconvert_exporter": "python",
   "pygments_lexer": "ipython3",
   "version": "3.7.3"
  }
 },
 "nbformat": 4,
 "nbformat_minor": 2
}
