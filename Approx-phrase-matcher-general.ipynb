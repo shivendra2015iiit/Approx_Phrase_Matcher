{
 "cells": [
  {
   "cell_type": "code",
   "execution_count": 1,
   "metadata": {},
   "outputs": [],
   "source": [
    "import pandas as pd\n",
    "from fuzzywuzzy import fuzz\n",
    "import nltk\n",
    "from nltk.corpus import stopwords\n",
    "import re"
   ]
  },
  {
   "cell_type": "code",
   "execution_count": 2,
   "metadata": {},
   "outputs": [],
   "source": [
    "with open(\"Toyota_Highlander_3.txt\") as file:\n",
    "    data=file.read()"
   ]
  },
  {
   "cell_type": "code",
   "execution_count": 5,
   "metadata": {},
   "outputs": [],
   "source": [
    "stop_words = set(stopwords.words('english'))\n",
    "stop_words.add(\".\")\n",
    "stop_words.add(\",\")\n",
    "stop_words.add(\"!\")\n",
    "stop_words.add(\"(\")\n",
    "stop_words.add(\")\")"
   ]
  },
  {
   "cell_type": "code",
   "execution_count": 6,
   "metadata": {},
   "outputs": [],
   "source": [
    "def findcarfeatures(features, document, match=80): #features=[\"hello I am\"] document =\"hello We are. I was going to talk with you\"\n",
    "    result=[]\n",
    "    for feature in features:\n",
    "        lenfeature = len(feature.split(\" \"))\n",
    "        word_tokens = nltk.word_tokenize(document)\n",
    "        filterd_word_tokens = [w for w in word_tokens if not w in stop_words]\n",
    "        for i in range (len(word_tokens)-lenfeature+1):\n",
    "            wordtocompare = \"\"\n",
    "            j=0\n",
    "            for j in range(i, i+lenfeature):\n",
    "                if re.search(r'[,!?{}\\[\\]\\\"\\\"\\'\\']',word_tokens[j]):\n",
    "                    break\n",
    "                wordtocompare = wordtocompare+\" \"+word_tokens[j].lower()\n",
    "            wordtocompare.strip()\n",
    "            if not wordtocompare==\"\":\n",
    "                if(fuzz.ratio(wordtocompare,feature.lower())> match):\n",
    "                    result.append([wordtocompare,feature,i,j])\n",
    "    return result"
   ]
  },
  {
   "cell_type": "code",
   "execution_count": 7,
   "metadata": {},
   "outputs": [],
   "source": [
    "features =[\"steering\",\"touch screen\",\"LED headlight\"]"
   ]
  },
  {
   "cell_type": "code",
   "execution_count": 8,
   "metadata": {},
   "outputs": [
    {
     "data": {
      "text/plain": [
       "[[' steering', 'steering', 353, 353],\n",
       " [' touchscreen .', 'touch screen', 334, 335],\n",
       " [' touchscreen .', 'touch screen', 474, 475],\n",
       " [' led headlights', 'LED headlight', 313, 314],\n",
       " [' headlights', 'LED headlight', 314, 315],\n",
       " [' headlights', 'LED headlight', 361, 362],\n",
       " [' led headlights', 'LED headlight', 408, 409],\n",
       " [' headlights', 'LED headlight', 409, 410],\n",
       " [' headlights', 'LED headlight', 442, 443]]"
      ]
     },
     "execution_count": 8,
     "metadata": {},
     "output_type": "execute_result"
    }
   ],
   "source": [
    "findcarfeatures(features,data)"
   ]
  },
  {
   "cell_type": "code",
   "execution_count": 19,
   "metadata": {},
   "outputs": [
    {
     "data": {
      "text/plain": [
       "[[' screens', 'Touchscreen', 1, 1]]"
      ]
     },
     "execution_count": 19,
     "metadata": {},
     "output_type": "execute_result"
    }
   ],
   "source": [
    "findcarfeatures([\"Touchscreen\"],\"Touch screens are most comman these days\",60)"
   ]
  },
  {
   "cell_type": "code",
   "execution_count": null,
   "metadata": {},
   "outputs": [],
   "source": []
  }
 ],
 "metadata": {
  "kernelspec": {
   "display_name": "Python 3",
   "language": "python",
   "name": "python3"
  },
  "language_info": {
   "codemirror_mode": {
    "name": "ipython",
    "version": 3
   },
   "file_extension": ".py",
   "mimetype": "text/x-python",
   "name": "python",
   "nbconvert_exporter": "python",
   "pygments_lexer": "ipython3",
   "version": "3.7.3"
  }
 },
 "nbformat": 4,
 "nbformat_minor": 2
}
